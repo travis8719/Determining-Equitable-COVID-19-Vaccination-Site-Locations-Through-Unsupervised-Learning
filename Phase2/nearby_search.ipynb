{
  "nbformat": 4,
  "nbformat_minor": 0,
  "metadata": {
    "colab": {
      "name": "nearby_search.ipynb",
      "provenance": [],
      "collapsed_sections": []
    },
    "kernelspec": {
      "name": "python3",
      "display_name": "Python 3"
    },
    "language_info": {
      "name": "python"
    }
  },
  "cells": [
    {
      "cell_type": "markdown",
      "metadata": {
        "id": "_ZCuyX-LC_a9"
      },
      "source": [
        "This notebook finds the closest infrastructure to the points chosen by the WK-Means algorithm."
      ]
    },
    {
      "cell_type": "markdown",
      "metadata": {
        "id": "7JXvgnm5B0NS"
      },
      "source": [
        "Install & import libraries"
      ]
    },
    {
      "cell_type": "code",
      "metadata": {
        "id": "ElyhUWRmKmD_"
      },
      "source": [
        "!pip install mapbox==0.3.1\n",
        "!pip install geopandas"
      ],
      "execution_count": null,
      "outputs": []
    },
    {
      "cell_type": "code",
      "metadata": {
        "id": "Tr5Er-xn-Slh"
      },
      "source": [
        "import geopandas\n",
        "import pickle\n",
        "import pandas as pd\n",
        "import geopy.distance\n",
        "from mapbox import Geocoder\n",
        "from google.colab import drive"
      ],
      "execution_count": 8,
      "outputs": []
    },
    {
      "cell_type": "code",
      "metadata": {
        "id": "NYWIdwkP2AaB"
      },
      "source": [
        "drive.mount('/content/drive')"
      ],
      "execution_count": null,
      "outputs": []
    },
    {
      "cell_type": "markdown",
      "metadata": {
        "id": "92OfLsZcB5Bb"
      },
      "source": [
        "Set API Token"
      ]
    },
    {
      "cell_type": "code",
      "metadata": {
        "id": "OiTHZY3QvPXM"
      },
      "source": [
        "mapbox_token = 'pk.eyJ1Ijoiamw4NzgxNyIsImEiOiJja244emZ6YjMwZWR0Mm9waWh0d3FpY24zIn0.d4S4s9v5PE93-J3othM21g'\n",
        "geocoder = Geocoder(access_token=mapbox_token)"
      ],
      "execution_count": 4,
      "outputs": []
    },
    {
      "cell_type": "markdown",
      "metadata": {
        "id": "YbfCkcGPVGg1"
      },
      "source": [
        "Read in WK-Means centroids"
      ]
    },
    {
      "cell_type": "code",
      "metadata": {
        "id": "WfHIYce6VGGK"
      },
      "source": [
        "pop_centroids = pd.read_pickle('/content/pop_centroids.pkl')\n",
        "demo_centroids = pd.read_pickle('/content/demo_centroids.pkl')\n",
        "income_centroids = pd.read_pickle('/content/income_centroids.pkl')"
      ],
      "execution_count": 9,
      "outputs": []
    },
    {
      "cell_type": "markdown",
      "metadata": {
        "id": "mKRcLC4qUOuH"
      },
      "source": [
        "Calculate Geodesic Distance for WGS84 Ellipsoid"
      ]
    },
    {
      "cell_type": "code",
      "metadata": {
        "id": "yryaenjWKDUf"
      },
      "source": [
        "# takes tuple (lat,lon) as coord\n",
        "def geodesic_distance(coord1,coord2):\n",
        "  return geopy.distance.distance(coord1, coord2).m"
      ],
      "execution_count": 141,
      "outputs": []
    },
    {
      "cell_type": "markdown",
      "metadata": {
        "id": "LrYm68yJUWKw"
      },
      "source": [
        "Convert geojson to dataframe & calculate distances"
      ]
    },
    {
      "cell_type": "code",
      "metadata": {
        "id": "mTcqPFa0Yf9m"
      },
      "source": [
        "def geojson_to_df(geojson, point):\n",
        "\n",
        "  df = geopandas.GeoDataFrame(geojson['features'])\n",
        "  df = df[['place_name','center','properties']]\n",
        "  df.columns = ['name','coordinates','properties']\n",
        "  df['new_coord'] = [tuple(x[::-1]) for x in tuple(df['coordinates'])]\n",
        "  types = [i['category'].split(',')[0] if 'category' in i else 'unknown' for i in df['properties']]\n",
        "  df['type'] = types\n",
        "\n",
        "  df['distance'] = df.apply(lambda x: geodesic_distance(point,x.coordinates),axis=1)\n",
        "  df = df.sort_values('distance')\n",
        "  df = df.drop('properties',axis=1)\n",
        "  df['old_lat'] = point[0]\n",
        "  df['old_lon'] = point[1]\n",
        "  return df"
      ],
      "execution_count": 308,
      "outputs": []
    },
    {
      "cell_type": "markdown",
      "metadata": {
        "id": "N5jCCNNxCL7p"
      },
      "source": [
        "Search for nearby infrastructure"
      ]
    },
    {
      "cell_type": "code",
      "metadata": {
        "id": "tfXpHNeUXwCJ"
      },
      "source": [
        "locations = []\n",
        "for idx,i in enumerate(pop_centroids['lon']):\n",
        "  point = (pop_centroids['lat'][idx], pop_centroids['lon'][idx])\n",
        "\n",
        "  med_center = geocoder.forward(address=\"medical center\", lon=pop_centroids['lon'][idx], lat=pop_centroids['lat'][idx]).geojson()\n",
        "  mdf = geojson_to_df(med_center,point)  \n",
        "\n",
        "  pharmacy = geocoder.forward(address=\"pharmacy\", lon=pop_centroids['lon'][idx], lat=pop_centroids['lat'][idx]).geojson()\n",
        "  pdf = geojson_to_df(pharmacy,point)\n",
        "\n",
        "  grocery = geocoder.forward(address=\"grocery\", lon=pop_centroids['lon'][idx], lat=pop_centroids['lat'][idx]).geojson()\n",
        "  gdf = geojson_to_df(grocery,point)\n",
        "\n",
        "  com_center = geocoder.forward(address=\"community center\", lon=pop_centroids['lon'][idx], lat=pop_centroids['lat'][idx]).geojson()\n",
        "  cdf = geojson_to_df(com_center,point)\n",
        "\n",
        "  church = geocoder.forward(address=\"church\", lon=pop_centroids['lon'][idx], lat=pop_centroids['lat'][idx]).geojson()\n",
        "  churchdf = geojson_to_df(church,point)\n",
        "\n",
        "  school = geocoder.forward(address=\"school\", lon=pop_centroids['lon'][idx], lat=pop_centroids['lat'][idx]).geojson()\n",
        "  sdf = geojson_to_df(school,point)\n",
        "\n",
        "  uni = geocoder.forward(address=\"university\", lon=pop_centroids['lon'][idx], lat=pop_centroids['lat'][idx]).geojson()\n",
        "  udf = geojson_to_df(uni,point)\n",
        "\n",
        "  college = geocoder.forward(address=\"college\", lon=pop_centroids['lon'][idx], lat=pop_centroids['lat'][idx]).geojson()\n",
        "  collegedf = geojson_to_df(college,point) \n",
        "\n",
        "  clinic = geocoder.forward(address=\"clinic\", lon=pop_centroids['lon'][idx], lat=pop_centroids['lat'][idx]).geojson()\n",
        "  clinicdf = geojson_to_df(clinic,point)\n",
        "\n",
        "  hospital = geocoder.forward(address=\"hospital\", lon=pop_centroids['lon'][idx], lat=pop_centroids['lat'][idx]).geojson()\n",
        "  hdf = geojson_to_df(hospital,point) \n",
        " \n",
        "  all = [pdf,gdf,cdf,churchdf,sdf,clinicdf,hdf,mdf,udf,collegedf]\n",
        "  df = pd.concat(all).reset_index().drop('index',axis=1)\n",
        "  df = df.sort_values('distance')\n",
        "  best = df.iloc[0].values\n",
        "  locations.append(best)"
      ],
      "execution_count": null,
      "outputs": []
    },
    {
      "cell_type": "markdown",
      "metadata": {
        "id": "9uv8bpUVCiLg"
      },
      "source": [
        "Display the closest infrastructure to the initial WK-Means points"
      ]
    },
    {
      "cell_type": "code",
      "metadata": {
        "colab": {
          "base_uri": "https://localhost:8080/",
          "height": 576
        },
        "id": "anKu4_JniVYY",
        "outputId": "7e3156a2-7d19-4ccb-d398-f58c7c22389a"
      },
      "source": [
        "final_points = pd.DataFrame(locations, columns=['name','coordinates','type','dist','lat_from','lon_from'])\n",
        "new_lat = [i[0] for i in final_points.coordinates ]\n",
        "new_lon = [i[1] for i in final_points.coordinates ]\n",
        "final_points['new_lat'] = new_lat\n",
        "final_points['new_lon'] = new_lon\n",
        "final_points = final_points.drop('coordinates',axis=1)\n",
        "final_points"
      ],
      "execution_count": 339,
      "outputs": [
        {
          "output_type": "execute_result",
          "data": {
            "text/html": [
              "<div>\n",
              "<style scoped>\n",
              "    .dataframe tbody tr th:only-of-type {\n",
              "        vertical-align: middle;\n",
              "    }\n",
              "\n",
              "    .dataframe tbody tr th {\n",
              "        vertical-align: top;\n",
              "    }\n",
              "\n",
              "    .dataframe thead th {\n",
              "        text-align: right;\n",
              "    }\n",
              "</style>\n",
              "<table border=\"1\" class=\"dataframe\">\n",
              "  <thead>\n",
              "    <tr style=\"text-align: right;\">\n",
              "      <th></th>\n",
              "      <th>name</th>\n",
              "      <th>type</th>\n",
              "      <th>dist</th>\n",
              "      <th>lat_from</th>\n",
              "      <th>lon_from</th>\n",
              "      <th>new_lat</th>\n",
              "      <th>new_lon</th>\n",
              "    </tr>\n",
              "  </thead>\n",
              "  <tbody>\n",
              "    <tr>\n",
              "      <th>0</th>\n",
              "      <td>Rite Aid, 250 W Chase St, Baltimore, Maryland ...</td>\n",
              "      <td>pharmacy</td>\n",
              "      <td>50.723710</td>\n",
              "      <td>39.301688</td>\n",
              "      <td>-76.620319</td>\n",
              "      <td>39.301823</td>\n",
              "      <td>-76.619757</td>\n",
              "    </tr>\n",
              "    <tr>\n",
              "      <th>1</th>\n",
              "      <td>Futurecare, 22 S Athol Ave, Baltimore, Marylan...</td>\n",
              "      <td>clinic</td>\n",
              "      <td>269.389512</td>\n",
              "      <td>39.287039</td>\n",
              "      <td>-76.689013</td>\n",
              "      <td>39.284934</td>\n",
              "      <td>-76.690566</td>\n",
              "    </tr>\n",
              "    <tr>\n",
              "      <th>2</th>\n",
              "      <td>Digital Harbor High School, 1100 Covington St,...</td>\n",
              "      <td>high school</td>\n",
              "      <td>158.936402</td>\n",
              "      <td>39.277072</td>\n",
              "      <td>-76.605698</td>\n",
              "      <td>39.276606</td>\n",
              "      <td>-76.607439</td>\n",
              "    </tr>\n",
              "    <tr>\n",
              "      <th>3</th>\n",
              "      <td>First St. Stephens Baptist Church, 4663 Pimlic...</td>\n",
              "      <td>church</td>\n",
              "      <td>131.746504</td>\n",
              "      <td>39.343695</td>\n",
              "      <td>-76.668424</td>\n",
              "      <td>39.344804</td>\n",
              "      <td>-76.667880</td>\n",
              "    </tr>\n",
              "    <tr>\n",
              "      <th>4</th>\n",
              "      <td>B. Green Wholesale, 1300 S Monroe St, Baltimor...</td>\n",
              "      <td>grocery</td>\n",
              "      <td>552.720937</td>\n",
              "      <td>39.276508</td>\n",
              "      <td>-76.645560</td>\n",
              "      <td>39.273492</td>\n",
              "      <td>-76.640463</td>\n",
              "    </tr>\n",
              "    <tr>\n",
              "      <th>5</th>\n",
              "      <td>John Ruhrah Elementary, 701 Rappolla St, Balti...</td>\n",
              "      <td>elementary school</td>\n",
              "      <td>227.213282</td>\n",
              "      <td>39.283236</td>\n",
              "      <td>-76.554014</td>\n",
              "      <td>39.284476</td>\n",
              "      <td>-76.551919</td>\n",
              "    </tr>\n",
              "    <tr>\n",
              "      <th>6</th>\n",
              "      <td>Keswick Multi-care Center, 700 W 40th St, Balt...</td>\n",
              "      <td>hospital</td>\n",
              "      <td>431.812120</td>\n",
              "      <td>39.341744</td>\n",
              "      <td>-76.631612</td>\n",
              "      <td>39.338135</td>\n",
              "      <td>-76.629744</td>\n",
              "    </tr>\n",
              "    <tr>\n",
              "      <th>7</th>\n",
              "      <td>Redemption Church, 4400 Parkside Dr, Baltimore...</td>\n",
              "      <td>church</td>\n",
              "      <td>590.803103</td>\n",
              "      <td>39.319615</td>\n",
              "      <td>-76.560030</td>\n",
              "      <td>39.324808</td>\n",
              "      <td>-76.561529</td>\n",
              "    </tr>\n",
              "    <tr>\n",
              "      <th>8</th>\n",
              "      <td>St. Matthew Catholic Church, 5401 Loch Raven B...</td>\n",
              "      <td>church</td>\n",
              "      <td>681.811373</td>\n",
              "      <td>39.356467</td>\n",
              "      <td>-76.597414</td>\n",
              "      <td>39.355755</td>\n",
              "      <td>-76.589557</td>\n",
              "    </tr>\n",
              "    <tr>\n",
              "      <th>9</th>\n",
              "      <td>Giant Food, 601 E 33rd St, Baltimore, Maryland...</td>\n",
              "      <td>supermarket</td>\n",
              "      <td>331.491264</td>\n",
              "      <td>39.325764</td>\n",
              "      <td>-76.605436</td>\n",
              "      <td>39.328192</td>\n",
              "      <td>-76.607673</td>\n",
              "    </tr>\n",
              "    <tr>\n",
              "      <th>10</th>\n",
              "      <td>New Saint Mark Baptist Church, 3905 Springdale...</td>\n",
              "      <td>church</td>\n",
              "      <td>272.415961</td>\n",
              "      <td>39.326042</td>\n",
              "      <td>-76.688379</td>\n",
              "      <td>39.325241</td>\n",
              "      <td>-76.685393</td>\n",
              "    </tr>\n",
              "    <tr>\n",
              "      <th>11</th>\n",
              "      <td>Baltimore International Academy, 4410 Frankfor...</td>\n",
              "      <td>education</td>\n",
              "      <td>396.222324</td>\n",
              "      <td>39.339337</td>\n",
              "      <td>-76.548472</td>\n",
              "      <td>39.335794</td>\n",
              "      <td>-76.549028</td>\n",
              "    </tr>\n",
              "    <tr>\n",
              "      <th>12</th>\n",
              "      <td>Boys and Girls Club Brooklyn O'Malley Center, ...</td>\n",
              "      <td>college student center</td>\n",
              "      <td>297.529808</td>\n",
              "      <td>39.239081</td>\n",
              "      <td>-76.610307</td>\n",
              "      <td>39.238113</td>\n",
              "      <td>-76.607093</td>\n",
              "    </tr>\n",
              "    <tr>\n",
              "      <th>13</th>\n",
              "      <td>Cross Country Elementary School, 6100 Cross Co...</td>\n",
              "      <td>elementary school</td>\n",
              "      <td>510.694518</td>\n",
              "      <td>39.362395</td>\n",
              "      <td>-76.693821</td>\n",
              "      <td>39.362447</td>\n",
              "      <td>-76.687896</td>\n",
              "    </tr>\n",
              "    <tr>\n",
              "      <th>14</th>\n",
              "      <td>Hamilton Elementary / Middle School, 6101 Old ...</td>\n",
              "      <td>middle school</td>\n",
              "      <td>118.831533</td>\n",
              "      <td>39.360927</td>\n",
              "      <td>-76.557326</td>\n",
              "      <td>39.359865</td>\n",
              "      <td>-76.557152</td>\n",
              "    </tr>\n",
              "    <tr>\n",
              "      <th>15</th>\n",
              "      <td>William Paca Elementary School, 200 N Lakewood...</td>\n",
              "      <td>elementary school</td>\n",
              "      <td>274.007570</td>\n",
              "      <td>39.295469</td>\n",
              "      <td>-76.582529</td>\n",
              "      <td>39.294973</td>\n",
              "      <td>-76.579417</td>\n",
              "    </tr>\n",
              "    <tr>\n",
              "      <th>16</th>\n",
              "      <td>Easterwood Recreation Center, beaulou, Baltimo...</td>\n",
              "      <td>community center</td>\n",
              "      <td>19.210492</td>\n",
              "      <td>39.306046</td>\n",
              "      <td>-76.654187</td>\n",
              "      <td>39.305916</td>\n",
              "      <td>-76.654333</td>\n",
              "    </tr>\n",
              "  </tbody>\n",
              "</table>\n",
              "</div>"
            ],
            "text/plain": [
              "                                                 name  ...    new_lon\n",
              "0   Rite Aid, 250 W Chase St, Baltimore, Maryland ...  ... -76.619757\n",
              "1   Futurecare, 22 S Athol Ave, Baltimore, Marylan...  ... -76.690566\n",
              "2   Digital Harbor High School, 1100 Covington St,...  ... -76.607439\n",
              "3   First St. Stephens Baptist Church, 4663 Pimlic...  ... -76.667880\n",
              "4   B. Green Wholesale, 1300 S Monroe St, Baltimor...  ... -76.640463\n",
              "5   John Ruhrah Elementary, 701 Rappolla St, Balti...  ... -76.551919\n",
              "6   Keswick Multi-care Center, 700 W 40th St, Balt...  ... -76.629744\n",
              "7   Redemption Church, 4400 Parkside Dr, Baltimore...  ... -76.561529\n",
              "8   St. Matthew Catholic Church, 5401 Loch Raven B...  ... -76.589557\n",
              "9   Giant Food, 601 E 33rd St, Baltimore, Maryland...  ... -76.607673\n",
              "10  New Saint Mark Baptist Church, 3905 Springdale...  ... -76.685393\n",
              "11  Baltimore International Academy, 4410 Frankfor...  ... -76.549028\n",
              "12  Boys and Girls Club Brooklyn O'Malley Center, ...  ... -76.607093\n",
              "13  Cross Country Elementary School, 6100 Cross Co...  ... -76.687896\n",
              "14  Hamilton Elementary / Middle School, 6101 Old ...  ... -76.557152\n",
              "15  William Paca Elementary School, 200 N Lakewood...  ... -76.579417\n",
              "16  Easterwood Recreation Center, beaulou, Baltimo...  ... -76.654333\n",
              "\n",
              "[17 rows x 7 columns]"
            ]
          },
          "metadata": {
            "tags": []
          },
          "execution_count": 339
        }
      ]
    },
    {
      "cell_type": "markdown",
      "metadata": {
        "id": "TnCqnCrdCq6i"
      },
      "source": [
        "Plot the differences in distance between old points & new points"
      ]
    },
    {
      "cell_type": "code",
      "metadata": {
        "colab": {
          "base_uri": "https://localhost:8080/",
          "height": 458
        },
        "id": "GglYfkHL99bD",
        "outputId": "ff0f0431-7583-455e-bae8-78e2d4078ede"
      },
      "source": [
        "from matplotlib import pyplot as plt\n",
        "old_lon = pop_centroids['lon'].values\n",
        "old_lat = pop_centroids['lat'].values\n",
        "new_lon = final_points['new_lon'].values\n",
        "new_lat = final_points['new_lat'].values\n",
        "\n",
        "\n",
        "fig, ax = plt.subplots(figsize=(10,7));\n",
        "#white = ax.scatter(lon4,lat4, c='white');\n",
        "black = ax.scatter(old_lon,old_lat,c='black'); \n",
        "red = ax.scatter(new_lon,new_lat,c='red'); \n",
        "ax.legend((black,red),('old','new'));\n",
        "plt.title('Differences in distance (meters) between old & new locations');\n",
        "plt.xlabel('Longitude');\n",
        "plt.ylabel('Latitude');"
      ],
      "execution_count": 341,
      "outputs": [
        {
          "output_type": "display_data",
          "data": {
            "image/png": "[encoded data removed]",
            "text/plain": [
              "<Figure size 720x504 with 1 Axes>"
            ]
          },
          "metadata": {
            "tags": [],
            "needs_background": "light"
          }
        }
      ]
    },
    {
      "cell_type": "markdown",
      "metadata": {
        "id": "KvWsp4eqC2Tc"
      },
      "source": [
        "Save results as pickle file"
      ]
    },
    {
      "cell_type": "code",
      "metadata": {
        "id": "xZwfGZYkC3y-"
      },
      "source": [
        "final_points.to_pickle('/content/pop_final_points.pkl')\n"
      ],
      "execution_count": 340,
      "outputs": []
    }
  ]
}