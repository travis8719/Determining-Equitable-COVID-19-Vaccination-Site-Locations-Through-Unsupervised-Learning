{
  "nbformat": 4,
  "nbformat_minor": 0,
  "metadata": {
    "colab": {
      "name": "process_csvs.ipynb",
      "provenance": [],
      "collapsed_sections": []
    },
    "kernelspec": {
      "name": "python3",
      "display_name": "Python 3"
    }
  },
  "cells": [
    {
      "cell_type": "markdown",
      "metadata": {
        "id": "EfLgp90UlsJq"
      },
      "source": [
        "## This notebook performs data scrubbing and feature engineering for the original Census CSVs"
      ]
    },
    {
      "cell_type": "code",
      "metadata": {
        "id": "BAScgEX6PaDn"
      },
      "source": [
        "import pandas as pd\n",
        "import os\n",
        "from google.colab import drive "
      ],
      "execution_count": 2,
      "outputs": []
    },
    {
      "cell_type": "code",
      "metadata": {
        "id": "tGtbD62OPhl4"
      },
      "source": [
        "drive.mount('/content/drive')"
      ],
      "execution_count": null,
      "outputs": []
    },
    {
      "cell_type": "markdown",
      "metadata": {
        "id": "B8PwG1oimMoh"
      },
      "source": [
        "Get paths of all CSV files"
      ]
    },
    {
      "cell_type": "code",
      "metadata": {
        "colab": {
          "base_uri": "https://localhost:8080/"
        },
        "id": "PZUq60FrV5m0",
        "outputId": "81c94379-7b81-4a00-97b7-38be33fa63c6"
      },
      "source": [
        "csv_paths = []\n",
        "dir = '/content/drive/MyDrive/Capstone_KMeans/originalCSV/'\n",
        "\n",
        "for path in os.listdir('/content/drive/MyDrive/Capstone_KMeans/originalCSV/'):\n",
        "  csv_paths.append(os.path.join(dir,path))\n",
        "  print(f'Found file for {path[:-24]}')\n",
        "print(f'\\nTotal: {len(csv_paths)} CSV files!')"
      ],
      "execution_count": 62,
      "outputs": [
        {
          "output_type": "stream",
          "text": [
            "Found file for South Carolina\n",
            "Found file for Alabama\n",
            "Found file for Georgia\n",
            "Found file for Louisiana\n",
            "Found file for Mississippi\n",
            "Found file for Texas\n",
            "Found file for Maryland\n",
            "\n",
            "Total: 7 CSV files!\n"
          ],
          "name": "stdout"
        }
      ]
    },
    {
      "cell_type": "markdown",
      "metadata": {
        "id": "SMRdCSu9qiOs"
      },
      "source": [
        "Variables for changing columns"
      ]
    },
    {
      "cell_type": "code",
      "metadata": {
        "id": "a8TfFGcnUNtH"
      },
      "source": [
        "cols_keep = ['GISJOIN', 'YEAR', 'STATE','COUNTY', 'COUNTYA', 'TRACTA', 'BLKGRPA','GEOID',\\\n",
        "             'ALUKE001', 'ALUKE003']\n",
        "             \n",
        "col_name_dict = {'ALUKE001':'TOTAL_POP','ALUKE003':'WHITE_POP','COUNTYA':'COUNTY_ID',\\\n",
        "                 'TRACTA':'TRACT','BLKGRPA':'BLKGRP'}"
      ],
      "execution_count": 6,
      "outputs": []
    },
    {
      "cell_type": "markdown",
      "metadata": {
        "id": "g3jgIhQrqqYU"
      },
      "source": [
        "Funtion to: \n",
        "- Subset df to only needed columns\n",
        "- Rename columns\n",
        "- Remove rows with zero population\n",
        "- Calculate \\% of total pop that is White"
      ]
    },
    {
      "cell_type": "code",
      "metadata": {
        "id": "8CDf9ACnW2G5"
      },
      "source": [
        "def processCSV(csv_path):\n",
        "  temp_df = pd.read_csv(csv_path, encoding='utf8')\n",
        "  temp_df = temp_df[cols_keep]\n",
        "  temp_df = temp_df.rename(columns=col_name_dict)\n",
        "  temp_df = temp_df[temp_df['TOTAL_POP'] > 0]\n",
        "  temp_df['PERCENT_WHITE'] = temp_df['WHITE_POP']/temp_df['TOTAL_POP']\n",
        "  \n",
        "  return temp_df"
      ],
      "execution_count": 51,
      "outputs": []
    },
    {
      "cell_type": "markdown",
      "metadata": {
        "id": "La-w-7tyrRGM"
      },
      "source": [
        "Loop through CSV files to process and save new versions"
      ]
    },
    {
      "cell_type": "code",
      "metadata": {
        "colab": {
          "base_uri": "https://localhost:8080/"
        },
        "id": "XiYA6Dmvjs3n",
        "outputId": "208ff796-5229-4dcd-fa09-7816ebd92bc5"
      },
      "source": [
        "dir2 = '/content/drive/MyDrive/Capstone_KMeans/processedCSV/'\n",
        "state_name_dict = {'Alabama':'AL','South Carolina':'SC','Maryland':'MD','Georgia':'GA','Louisiana':'LA','Mississippi':'MS','Texas':'TX'}\n",
        "\n",
        "for idx, path in enumerate(csv_paths):\n",
        "  df = processCSV(path)\n",
        "  state_name = state_name_dict[df['STATE'].unique()[0]]\n",
        "  temp_name = dir2 + state_name + '_ACS_2019.csv'\n",
        "  print(f'Saving {state_name}_ACS_2019.csv')\n",
        "\n",
        "  df.to_csv(temp_name, index = False, encoding ='utf-8')"
      ],
      "execution_count": 68,
      "outputs": [
        {
          "output_type": "stream",
          "text": [
            "Saving SC_ACS_2019.csv\n",
            "Saving AL_ACS_2019.csv\n",
            "Saving GA_ACS_2019.csv\n",
            "Saving LA_ACS_2019.csv\n",
            "Saving MS_ACS_2019.csv\n",
            "Saving TX_ACS_2019.csv\n",
            "Saving MD_ACS_2019.csv\n"
          ],
          "name": "stdout"
        }
      ]
    },
    {
      "cell_type": "markdown",
      "metadata": {
        "id": "T7heQyTX5IKc"
      },
      "source": [
        "Verify that worked"
      ]
    },
    {
      "cell_type": "code",
      "metadata": {
        "colab": {
          "base_uri": "https://localhost:8080/"
        },
        "id": "TdmTm38f6FnT",
        "outputId": "545ec01d-7080-42f8-c759-3752989f341f"
      },
      "source": [
        "new_csv_path = os.listdir('/content/drive/MyDrive/Capstone_KMeans/processedCSV')\n",
        "\n",
        "for file in new_csv_path:\n",
        "  temp_df = pd.read_csv(os.path.join(dir2,file))\n",
        "  print(temp_df[['STATE','TOTAL_POP','WHITE_POP','PERCENT_WHITE']].head(3))\n",
        "  print(f'Length of df: {len(temp_df)}\\n')"
      ],
      "execution_count": 90,
      "outputs": [
        {
          "output_type": "stream",
          "text": [
            "            STATE  TOTAL_POP  WHITE_POP  PERCENT_WHITE\n",
            "0  South Carolina        794        672       0.846348\n",
            "1  South Carolina        976        773       0.792008\n",
            "2  South Carolina       1211       1045       0.862923\n",
            "Length of df: 3039\n",
            "\n",
            "     STATE  TOTAL_POP  WHITE_POP  PERCENT_WHITE\n",
            "0  Alabama        730        606       0.830137\n",
            "1  Alabama       1263       1053       0.833729\n",
            "2  Alabama        835        267       0.319760\n",
            "Length of df: 3432\n",
            "\n",
            "     STATE  TOTAL_POP  WHITE_POP  PERCENT_WHITE\n",
            "0  Georgia       1033        973       0.941917\n",
            "1  Georgia       2146       2026       0.944082\n",
            "2  Georgia       1950        956       0.490256\n",
            "Length of df: 5519\n",
            "\n",
            "       STATE  TOTAL_POP  WHITE_POP  PERCENT_WHITE\n",
            "0  Louisiana       1370        956       0.697810\n",
            "1  Louisiana        846        221       0.261229\n",
            "2  Louisiana        468        455       0.972222\n",
            "Length of df: 3444\n",
            "\n",
            "         STATE  TOTAL_POP  WHITE_POP  PERCENT_WHITE\n",
            "0  Mississippi       3523       1636       0.464377\n",
            "1  Mississippi       2181        932       0.427327\n",
            "2  Mississippi       1121        626       0.558430\n",
            "Length of df: 2158\n",
            "\n",
            "   STATE  TOTAL_POP  WHITE_POP  PERCENT_WHITE\n",
            "0  Texas       1296        899       0.693673\n",
            "1  Texas       2051       1741       0.848854\n",
            "2  Texas       1497       1183       0.790247\n",
            "Length of df: 15765\n",
            "\n",
            "      STATE  TOTAL_POP  WHITE_POP  PERCENT_WHITE\n",
            "0  Maryland        584        570       0.976027\n",
            "1  Maryland       1858       1822       0.980624\n",
            "2  Maryland       1139       1100       0.965759\n",
            "Length of df: 3903\n",
            "\n"
          ],
          "name": "stdout"
        }
      ]
    },
    {
      "cell_type": "markdown",
      "metadata": {
        "id": "-pHL7x3g5gJF"
      },
      "source": [
        "## Success"
      ]
    }
  ]
}